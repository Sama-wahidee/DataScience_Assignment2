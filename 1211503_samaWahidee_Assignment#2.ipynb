{
 "cells": [
  {
   "cell_type": "markdown",
   "id": "924dbc8a-5c4d-48ef-a680-49dfac982cdf",
   "metadata": {},
   "source": [
    "Name: sama wahidee \n",
    "ID: 1211503\n",
    "section: 1\n",
    "Assignment: #2"
   ]
  },
  {
   "cell_type": "code",
   "execution_count": 4,
   "id": "d0ef1e82-e469-49eb-977c-b7c4178ceecd",
   "metadata": {},
   "outputs": [
    {
     "name": "stdout",
     "output_type": "stream",
     "text": [
      "Choose grocery store Abo Ahmad\n"
     ]
    }
   ],
   "source": [
    "import os\n",
    "import numpy as np\n",
    "\n",
    "# Define function to read data from a npy file\n",
    "def read_groceries(groceries):\n",
    "    data = np.load(groceries)\n",
    "    return data\n",
    "\n",
    "# Define the directory containing the grocery files\n",
    "groceries_dir = 'C:/Users/sama6/OneDrive/Desktop/BZU/Data Science/Assignment 2/groceries'\n",
    "\n",
    "# Initialize lists to store prices and filenames\n",
    "grocery_prices = []\n",
    "grocery_names = []\n",
    "\n",
    "# Iterate over files in the directory\n",
    "for filename in os.listdir(groceries_dir):\n",
    "    # Check if file has .npy extension\n",
    "    if filename.endswith('.npy'):\n",
    "        # Construct full file path\n",
    "        file_path = os.path.join(groceries_dir, filename)\n",
    "        # Load prices from the grocery store\n",
    "        prices = read_groceries(file_path)\n",
    "        # Append prices to the list\n",
    "        grocery_prices.append(prices)\n",
    "        # Append filename (store name) to the list\n",
    "        grocery_names.append(filename[:-4])  # Remove the '.npy' extension\n",
    "\n",
    "# Convert the lists to numpy arrays\n",
    "grocery_prices = np.array(grocery_prices)\n",
    "grocery_names = np.array(grocery_names)\n",
    "\n",
    "# Define the quantities needed\n",
    "quantities = np.array([2, 1.5, 3, 6, 1, 1, 2, 3])\n",
    "\n",
    "# Calculate total cost for each grocery store\n",
    "total_costs = np.dot(grocery_prices, quantities)\n",
    "\n",
    "# Find the index of the minimum total cost\n",
    "min_index = np.argmin(total_costs)\n",
    "\n",
    "# Print the chosen grocery store name\n",
    "print(f\"Choose grocery store {grocery_names[min_index]}\")\n"
   ]
  },
  {
   "cell_type": "code",
   "execution_count": null,
   "id": "d27e4b7b-2cd0-423a-b96a-39cfb56c365a",
   "metadata": {},
   "outputs": [],
   "source": []
  }
 ],
 "metadata": {
  "kernelspec": {
   "display_name": "Python 3 (ipykernel)",
   "language": "python",
   "name": "python3"
  },
  "language_info": {
   "codemirror_mode": {
    "name": "ipython",
    "version": 3
   },
   "file_extension": ".py",
   "mimetype": "text/x-python",
   "name": "python",
   "nbconvert_exporter": "python",
   "pygments_lexer": "ipython3",
   "version": "3.12.2"
  }
 },
 "nbformat": 4,
 "nbformat_minor": 5
}
